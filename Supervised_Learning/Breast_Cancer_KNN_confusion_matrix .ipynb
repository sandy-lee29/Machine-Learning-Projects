{
  "nbformat": 4,
  "nbformat_minor": 0,
  "metadata": {
    "colab": {
      "provenance": []
    },
    "kernelspec": {
      "name": "python3",
      "display_name": "Python 3"
    },
    "language_info": {
      "name": "python"
    }
  },
  "cells": [
    {
      "cell_type": "markdown",
      "source": [
        "I will use KNN to predict whether a tumor is malignant or benign using the Breast Cancer dataset."
      ],
      "metadata": {
        "id": "MKSc6Pnk5A9K"
      }
    },
    {
      "cell_type": "code",
      "execution_count": 15,
      "metadata": {
        "id": "J7UFJg034Q42"
      },
      "outputs": [],
      "source": [
        "import numpy as np\n",
        "import pandas as pd\n",
        "from sklearn.datasets import load_breast_cancer\n",
        "from sklearn.model_selection import train_test_split\n",
        "from sklearn.preprocessing import StandardScaler\n",
        "from sklearn.neighbors import KNeighborsClassifier\n",
        "from sklearn.metrics import accuracy_score, confusion_matrix\n",
        "import seaborn as sns\n",
        "import matplotlib.pyplot as plt"
      ]
    },
    {
      "cell_type": "code",
      "source": [
        "# Load dataset\n",
        "data = load_breast_cancer()\n",
        "df = pd.DataFrame(data['data'], columns=data['feature_names'])\n",
        "df['target'] = data['target']\n",
        "df.sample(2)"
      ],
      "metadata": {
        "colab": {
          "base_uri": "https://localhost:8080/",
          "height": 196
        },
        "id": "RSewUEfW5GLH",
        "outputId": "26f388b2-9923-42e5-a60c-e4020c71ef1e"
      },
      "execution_count": 16,
      "outputs": [
        {
          "output_type": "execute_result",
          "data": {
            "text/plain": [
              "     mean radius  mean texture  mean perimeter  mean area  mean smoothness  \\\n",
              "326        14.11         12.88           90.03      616.5          0.09309   \n",
              "135        12.77         22.47           81.72      506.3          0.09055   \n",
              "\n",
              "     mean compactness  mean concavity  mean concave points  mean symmetry  \\\n",
              "326           0.05306         0.01765              0.02733         0.1373   \n",
              "135           0.05761         0.04711              0.02704         0.1585   \n",
              "\n",
              "     mean fractal dimension  ...  worst texture  worst perimeter  worst area  \\\n",
              "326                 0.05700  ...          18.00            98.40       749.9   \n",
              "135                 0.06065  ...          33.37            92.04       653.6   \n",
              "\n",
              "     worst smoothness  worst compactness  worst concavity  \\\n",
              "326            0.1281             0.1109          0.05307   \n",
              "135            0.1419             0.1523          0.21770   \n",
              "\n",
              "     worst concave points  worst symmetry  worst fractal dimension  target  \n",
              "326               0.05890          0.2100                  0.07083       1  \n",
              "135               0.09331          0.2829                  0.08067       0  \n",
              "\n",
              "[2 rows x 31 columns]"
            ],
            "text/html": [
              "\n",
              "  <div id=\"df-52b76760-7b35-4dc5-95b8-fe8c5d90b010\" class=\"colab-df-container\">\n",
              "    <div>\n",
              "<style scoped>\n",
              "    .dataframe tbody tr th:only-of-type {\n",
              "        vertical-align: middle;\n",
              "    }\n",
              "\n",
              "    .dataframe tbody tr th {\n",
              "        vertical-align: top;\n",
              "    }\n",
              "\n",
              "    .dataframe thead th {\n",
              "        text-align: right;\n",
              "    }\n",
              "</style>\n",
              "<table border=\"1\" class=\"dataframe\">\n",
              "  <thead>\n",
              "    <tr style=\"text-align: right;\">\n",
              "      <th></th>\n",
              "      <th>mean radius</th>\n",
              "      <th>mean texture</th>\n",
              "      <th>mean perimeter</th>\n",
              "      <th>mean area</th>\n",
              "      <th>mean smoothness</th>\n",
              "      <th>mean compactness</th>\n",
              "      <th>mean concavity</th>\n",
              "      <th>mean concave points</th>\n",
              "      <th>mean symmetry</th>\n",
              "      <th>mean fractal dimension</th>\n",
              "      <th>...</th>\n",
              "      <th>worst texture</th>\n",
              "      <th>worst perimeter</th>\n",
              "      <th>worst area</th>\n",
              "      <th>worst smoothness</th>\n",
              "      <th>worst compactness</th>\n",
              "      <th>worst concavity</th>\n",
              "      <th>worst concave points</th>\n",
              "      <th>worst symmetry</th>\n",
              "      <th>worst fractal dimension</th>\n",
              "      <th>target</th>\n",
              "    </tr>\n",
              "  </thead>\n",
              "  <tbody>\n",
              "    <tr>\n",
              "      <th>326</th>\n",
              "      <td>14.11</td>\n",
              "      <td>12.88</td>\n",
              "      <td>90.03</td>\n",
              "      <td>616.5</td>\n",
              "      <td>0.09309</td>\n",
              "      <td>0.05306</td>\n",
              "      <td>0.01765</td>\n",
              "      <td>0.02733</td>\n",
              "      <td>0.1373</td>\n",
              "      <td>0.05700</td>\n",
              "      <td>...</td>\n",
              "      <td>18.00</td>\n",
              "      <td>98.40</td>\n",
              "      <td>749.9</td>\n",
              "      <td>0.1281</td>\n",
              "      <td>0.1109</td>\n",
              "      <td>0.05307</td>\n",
              "      <td>0.05890</td>\n",
              "      <td>0.2100</td>\n",
              "      <td>0.07083</td>\n",
              "      <td>1</td>\n",
              "    </tr>\n",
              "    <tr>\n",
              "      <th>135</th>\n",
              "      <td>12.77</td>\n",
              "      <td>22.47</td>\n",
              "      <td>81.72</td>\n",
              "      <td>506.3</td>\n",
              "      <td>0.09055</td>\n",
              "      <td>0.05761</td>\n",
              "      <td>0.04711</td>\n",
              "      <td>0.02704</td>\n",
              "      <td>0.1585</td>\n",
              "      <td>0.06065</td>\n",
              "      <td>...</td>\n",
              "      <td>33.37</td>\n",
              "      <td>92.04</td>\n",
              "      <td>653.6</td>\n",
              "      <td>0.1419</td>\n",
              "      <td>0.1523</td>\n",
              "      <td>0.21770</td>\n",
              "      <td>0.09331</td>\n",
              "      <td>0.2829</td>\n",
              "      <td>0.08067</td>\n",
              "      <td>0</td>\n",
              "    </tr>\n",
              "  </tbody>\n",
              "</table>\n",
              "<p>2 rows × 31 columns</p>\n",
              "</div>\n",
              "    <div class=\"colab-df-buttons\">\n",
              "\n",
              "  <div class=\"colab-df-container\">\n",
              "    <button class=\"colab-df-convert\" onclick=\"convertToInteractive('df-52b76760-7b35-4dc5-95b8-fe8c5d90b010')\"\n",
              "            title=\"Convert this dataframe to an interactive table.\"\n",
              "            style=\"display:none;\">\n",
              "\n",
              "  <svg xmlns=\"http://www.w3.org/2000/svg\" height=\"24px\" viewBox=\"0 -960 960 960\">\n",
              "    <path d=\"M120-120v-720h720v720H120Zm60-500h600v-160H180v160Zm220 220h160v-160H400v160Zm0 220h160v-160H400v160ZM180-400h160v-160H180v160Zm440 0h160v-160H620v160ZM180-180h160v-160H180v160Zm440 0h160v-160H620v160Z\"/>\n",
              "  </svg>\n",
              "    </button>\n",
              "\n",
              "  <style>\n",
              "    .colab-df-container {\n",
              "      display:flex;\n",
              "      gap: 12px;\n",
              "    }\n",
              "\n",
              "    .colab-df-convert {\n",
              "      background-color: #E8F0FE;\n",
              "      border: none;\n",
              "      border-radius: 50%;\n",
              "      cursor: pointer;\n",
              "      display: none;\n",
              "      fill: #1967D2;\n",
              "      height: 32px;\n",
              "      padding: 0 0 0 0;\n",
              "      width: 32px;\n",
              "    }\n",
              "\n",
              "    .colab-df-convert:hover {\n",
              "      background-color: #E2EBFA;\n",
              "      box-shadow: 0px 1px 2px rgba(60, 64, 67, 0.3), 0px 1px 3px 1px rgba(60, 64, 67, 0.15);\n",
              "      fill: #174EA6;\n",
              "    }\n",
              "\n",
              "    .colab-df-buttons div {\n",
              "      margin-bottom: 4px;\n",
              "    }\n",
              "\n",
              "    [theme=dark] .colab-df-convert {\n",
              "      background-color: #3B4455;\n",
              "      fill: #D2E3FC;\n",
              "    }\n",
              "\n",
              "    [theme=dark] .colab-df-convert:hover {\n",
              "      background-color: #434B5C;\n",
              "      box-shadow: 0px 1px 3px 1px rgba(0, 0, 0, 0.15);\n",
              "      filter: drop-shadow(0px 1px 2px rgba(0, 0, 0, 0.3));\n",
              "      fill: #FFFFFF;\n",
              "    }\n",
              "  </style>\n",
              "\n",
              "    <script>\n",
              "      const buttonEl =\n",
              "        document.querySelector('#df-52b76760-7b35-4dc5-95b8-fe8c5d90b010 button.colab-df-convert');\n",
              "      buttonEl.style.display =\n",
              "        google.colab.kernel.accessAllowed ? 'block' : 'none';\n",
              "\n",
              "      async function convertToInteractive(key) {\n",
              "        const element = document.querySelector('#df-52b76760-7b35-4dc5-95b8-fe8c5d90b010');\n",
              "        const dataTable =\n",
              "          await google.colab.kernel.invokeFunction('convertToInteractive',\n",
              "                                                    [key], {});\n",
              "        if (!dataTable) return;\n",
              "\n",
              "        const docLinkHtml = 'Like what you see? Visit the ' +\n",
              "          '<a target=\"_blank\" href=https://colab.research.google.com/notebooks/data_table.ipynb>data table notebook</a>'\n",
              "          + ' to learn more about interactive tables.';\n",
              "        element.innerHTML = '';\n",
              "        dataTable['output_type'] = 'display_data';\n",
              "        await google.colab.output.renderOutput(dataTable, element);\n",
              "        const docLink = document.createElement('div');\n",
              "        docLink.innerHTML = docLinkHtml;\n",
              "        element.appendChild(docLink);\n",
              "      }\n",
              "    </script>\n",
              "  </div>\n",
              "\n",
              "\n",
              "<div id=\"df-72da4e0e-79bd-435b-86b9-e0c809c5e17b\">\n",
              "  <button class=\"colab-df-quickchart\" onclick=\"quickchart('df-72da4e0e-79bd-435b-86b9-e0c809c5e17b')\"\n",
              "            title=\"Suggest charts\"\n",
              "            style=\"display:none;\">\n",
              "\n",
              "<svg xmlns=\"http://www.w3.org/2000/svg\" height=\"24px\"viewBox=\"0 0 24 24\"\n",
              "     width=\"24px\">\n",
              "    <g>\n",
              "        <path d=\"M19 3H5c-1.1 0-2 .9-2 2v14c0 1.1.9 2 2 2h14c1.1 0 2-.9 2-2V5c0-1.1-.9-2-2-2zM9 17H7v-7h2v7zm4 0h-2V7h2v10zm4 0h-2v-4h2v4z\"/>\n",
              "    </g>\n",
              "</svg>\n",
              "  </button>\n",
              "\n",
              "<style>\n",
              "  .colab-df-quickchart {\n",
              "      --bg-color: #E8F0FE;\n",
              "      --fill-color: #1967D2;\n",
              "      --hover-bg-color: #E2EBFA;\n",
              "      --hover-fill-color: #174EA6;\n",
              "      --disabled-fill-color: #AAA;\n",
              "      --disabled-bg-color: #DDD;\n",
              "  }\n",
              "\n",
              "  [theme=dark] .colab-df-quickchart {\n",
              "      --bg-color: #3B4455;\n",
              "      --fill-color: #D2E3FC;\n",
              "      --hover-bg-color: #434B5C;\n",
              "      --hover-fill-color: #FFFFFF;\n",
              "      --disabled-bg-color: #3B4455;\n",
              "      --disabled-fill-color: #666;\n",
              "  }\n",
              "\n",
              "  .colab-df-quickchart {\n",
              "    background-color: var(--bg-color);\n",
              "    border: none;\n",
              "    border-radius: 50%;\n",
              "    cursor: pointer;\n",
              "    display: none;\n",
              "    fill: var(--fill-color);\n",
              "    height: 32px;\n",
              "    padding: 0;\n",
              "    width: 32px;\n",
              "  }\n",
              "\n",
              "  .colab-df-quickchart:hover {\n",
              "    background-color: var(--hover-bg-color);\n",
              "    box-shadow: 0 1px 2px rgba(60, 64, 67, 0.3), 0 1px 3px 1px rgba(60, 64, 67, 0.15);\n",
              "    fill: var(--button-hover-fill-color);\n",
              "  }\n",
              "\n",
              "  .colab-df-quickchart-complete:disabled,\n",
              "  .colab-df-quickchart-complete:disabled:hover {\n",
              "    background-color: var(--disabled-bg-color);\n",
              "    fill: var(--disabled-fill-color);\n",
              "    box-shadow: none;\n",
              "  }\n",
              "\n",
              "  .colab-df-spinner {\n",
              "    border: 2px solid var(--fill-color);\n",
              "    border-color: transparent;\n",
              "    border-bottom-color: var(--fill-color);\n",
              "    animation:\n",
              "      spin 1s steps(1) infinite;\n",
              "  }\n",
              "\n",
              "  @keyframes spin {\n",
              "    0% {\n",
              "      border-color: transparent;\n",
              "      border-bottom-color: var(--fill-color);\n",
              "      border-left-color: var(--fill-color);\n",
              "    }\n",
              "    20% {\n",
              "      border-color: transparent;\n",
              "      border-left-color: var(--fill-color);\n",
              "      border-top-color: var(--fill-color);\n",
              "    }\n",
              "    30% {\n",
              "      border-color: transparent;\n",
              "      border-left-color: var(--fill-color);\n",
              "      border-top-color: var(--fill-color);\n",
              "      border-right-color: var(--fill-color);\n",
              "    }\n",
              "    40% {\n",
              "      border-color: transparent;\n",
              "      border-right-color: var(--fill-color);\n",
              "      border-top-color: var(--fill-color);\n",
              "    }\n",
              "    60% {\n",
              "      border-color: transparent;\n",
              "      border-right-color: var(--fill-color);\n",
              "    }\n",
              "    80% {\n",
              "      border-color: transparent;\n",
              "      border-right-color: var(--fill-color);\n",
              "      border-bottom-color: var(--fill-color);\n",
              "    }\n",
              "    90% {\n",
              "      border-color: transparent;\n",
              "      border-bottom-color: var(--fill-color);\n",
              "    }\n",
              "  }\n",
              "</style>\n",
              "\n",
              "  <script>\n",
              "    async function quickchart(key) {\n",
              "      const quickchartButtonEl =\n",
              "        document.querySelector('#' + key + ' button');\n",
              "      quickchartButtonEl.disabled = true;  // To prevent multiple clicks.\n",
              "      quickchartButtonEl.classList.add('colab-df-spinner');\n",
              "      try {\n",
              "        const charts = await google.colab.kernel.invokeFunction(\n",
              "            'suggestCharts', [key], {});\n",
              "      } catch (error) {\n",
              "        console.error('Error during call to suggestCharts:', error);\n",
              "      }\n",
              "      quickchartButtonEl.classList.remove('colab-df-spinner');\n",
              "      quickchartButtonEl.classList.add('colab-df-quickchart-complete');\n",
              "    }\n",
              "    (() => {\n",
              "      let quickchartButtonEl =\n",
              "        document.querySelector('#df-72da4e0e-79bd-435b-86b9-e0c809c5e17b button');\n",
              "      quickchartButtonEl.style.display =\n",
              "        google.colab.kernel.accessAllowed ? 'block' : 'none';\n",
              "    })();\n",
              "  </script>\n",
              "</div>\n",
              "\n",
              "    </div>\n",
              "  </div>\n"
            ],
            "application/vnd.google.colaboratory.intrinsic+json": {
              "type": "dataframe"
            }
          },
          "metadata": {},
          "execution_count": 16
        }
      ]
    },
    {
      "cell_type": "code",
      "source": [
        "# Select features and target variable\n",
        "X = df[['mean radius', 'mean texture', 'mean smoothness', 'mean compactness', 'mean symmetry']]\n",
        "y = df['target']  # 0 = malignant, 1 = benign"
      ],
      "metadata": {
        "id": "vhCc1EYA5GH7"
      },
      "execution_count": 17,
      "outputs": []
    },
    {
      "cell_type": "code",
      "source": [
        "# Split the data into training and test sets\n",
        "X_train, X_test, y_train, y_test = train_test_split(X, y, test_size=0.2, random_state=42)"
      ],
      "metadata": {
        "id": "DGFPjGFy5GFY"
      },
      "execution_count": 18,
      "outputs": []
    },
    {
      "cell_type": "code",
      "source": [
        "# Scale the features\n",
        "scaler = StandardScaler()\n",
        "X_train_scaled = scaler.fit_transform(X_train)\n",
        "X_test_scaled = scaler.transform(X_test)"
      ],
      "metadata": {
        "id": "F976grMA5GCc"
      },
      "execution_count": 19,
      "outputs": []
    },
    {
      "cell_type": "code",
      "source": [
        "# Create and train the KNN model\n",
        "knn = KNeighborsClassifier(n_neighbors=5)\n",
        "knn.fit(X_train_scaled, y_train)\n",
        "\n",
        "# Make predictions\n",
        "y_train_pred = knn.predict(X_train_scaled)\n",
        "y_pred = knn.predict(X_test_scaled)"
      ],
      "metadata": {
        "id": "7g52eN_T5F_n"
      },
      "execution_count": 32,
      "outputs": []
    },
    {
      "cell_type": "code",
      "source": [
        "# Plot the confusion matrix\n",
        "cm = confusion_matrix(y_test, y_pred)\n",
        "plt.figure(figsize=(8, 6))\n",
        "sns.heatmap(cm, annot=True, fmt='d', cmap='Blues')\n",
        "plt.xlabel('Predicted')\n",
        "plt.ylabel('Actual')\n",
        "plt.title('Confusion Matrix')\n",
        "plt.show()"
      ],
      "metadata": {
        "colab": {
          "base_uri": "https://localhost:8080/",
          "height": 564
        },
        "id": "LzAbpfE-7aTb",
        "outputId": "7444cafe-6ca2-463e-9b62-b7fa4cbd68d9"
      },
      "execution_count": 21,
      "outputs": [
        {
          "output_type": "display_data",
          "data": {
            "text/plain": [
              "<Figure size 800x600 with 2 Axes>"
            ],
            "image/png": "[encoded data removed]"
          },
          "metadata": {}
        }
      ]
    },
    {
      "cell_type": "code",
      "source": [
        "from sklearn.metrics import f1_score, accuracy_score, precision_score, recall_score\n",
        "\n",
        "def evaluate_predictions(y_test, y_pred):\n",
        "    cm = confusion_matrix(y_test, y_pred)\n",
        "    TN = cm[0][0]\n",
        "    FN = cm[1][0]\n",
        "    FP = cm[0][1]\n",
        "    TP = cm[1][1]\n",
        "\n",
        "    N = FP + TN\n",
        "    P = TP + FN\n",
        "\n",
        "    return {\n",
        "       'false_positive_rate': f\"{FP / N:.2f}\",\n",
        "        'false_negative_rate': f\"{FN / P:.2f}\",\n",
        "        'accuracy': f\"{accuracy_score(y_test, y_pred):.2f}\",\n",
        "        'precision': f\"{precision_score(y_test, y_pred):.2f}\",\n",
        "        'recall': f\"{recall_score(y_test, y_pred):.2f}\",\n",
        "        'f1': f\"{f1_score(y_test, y_pred):.2f}\",\n",
        "    }\n",
        "\n",
        "evaluate_predictions(y_test, y_pred)\n"
      ],
      "metadata": {
        "colab": {
          "base_uri": "https://localhost:8080/"
        },
        "id": "giNScWbq7a6o",
        "outputId": "1d535f64-c796-4e2a-c219-dcfb33dbf2aa"
      },
      "execution_count": 25,
      "outputs": [
        {
          "output_type": "execute_result",
          "data": {
            "text/plain": [
              "{'false_positive_rate': '0.09',\n",
              " 'false_negative_rate': '0.06',\n",
              " 'accuracy': '0.93',\n",
              " 'precision': '0.94',\n",
              " 'recall': '0.94',\n",
              " 'f1': '0.94'}"
            ]
          },
          "metadata": {},
          "execution_count": 25
        }
      ]
    },
    {
      "cell_type": "markdown",
      "source": [
        "Interpret the confusion matrix: what does each quadrant represent, and what does this say about the performance of our model? <br>\n",
        "1. top-left quadrant: 39 represents the number of True Negatives. The model correctly predicted that 39 tumors are malignant(0) when they were truly malignant. <br>\n",
        "2. top-right quadrant: 4 represents the number of False Positives. The model incorrectly predicted that 4 tumors were benign when they were actually malignant. <br>\n",
        "3. bottom-left quadrant: 4 represents the number of False Negatives. The model incorrectly predicted that 4 tumors were malignant when they were actually benign. <br>\n",
        "4. bottom-right quadrant: 67 represents the number of True Positive. The model correctly predicted that 67 tumors were benign when they were actually benign. <br>\n",
        "- The model's accuracy is 92.98% and precision, recall, f1 is 94.36%. All of these show that the model performs quite well, indicating that the model does not make many errors in predicting whether a tumor is malignant or benign. However in the real-word, even small false positive and false negative rates can be critical so further tuning of the model may be needed."
      ],
      "metadata": {
        "id": "ZRWAYnfuW3bw"
      }
    },
    {
      "cell_type": "markdown",
      "source": [
        "Which number of neighbours results in the highest accuracy of the kNN classifier?"
      ],
      "metadata": {
        "id": "bYx8gAVsXXUE"
      }
    },
    {
      "cell_type": "code",
      "source": [
        "# List of different n_neighbors values to test\n",
        "neighbors = range(1, len(X_train_scaled), 1)\n",
        "\n",
        "best_n_neighbors = 1\n",
        "best_accuracy = 0\n",
        "\n",
        "for n in neighbors:\n",
        "    knn = KNeighborsClassifier(n_neighbors=n)\n",
        "    knn.fit(X_train_scaled, y_train)\n",
        "    y_pred = knn.predict(X_test_scaled)\n",
        "    accuracy = (y_pred == y_test).mean()\n",
        "\n",
        "    if accuracy > best_accuracy:\n",
        "        best_n_neighbors = n\n",
        "        best_accuracy = accuracy\n",
        "\n",
        "print(f\"Best number of neighbors: {best_n_neighbors}, with accuracy: {best_accuracy:.2f}\")\n"
      ],
      "metadata": {
        "colab": {
          "base_uri": "https://localhost:8080/"
        },
        "id": "ekocCTKHW5CT",
        "outputId": "21630beb-e65d-4d1a-9df5-d7250315e135"
      },
      "execution_count": 26,
      "outputs": [
        {
          "output_type": "stream",
          "name": "stdout",
          "text": [
            "Best number of neighbors: 25, with accuracy: 0.97\n"
          ]
        }
      ]
    },
    {
      "cell_type": "markdown",
      "source": [
        "Is there evidence of overfitting? <br>\n",
        "\n",
        "Since the training accuracy 95% and test accuracy 93% are similar in value, the model can be evaluated as generalizing well and thus there seems to be no evidence of overfitting here."
      ],
      "metadata": {
        "id": "Ux2nrmS_Ywha"
      }
    },
    {
      "cell_type": "markdown",
      "source": [
        "If you had to choose a single evaluation metric to summarize the performance of this classifier, which would you choose? Consider the data it's being used with and the application it's being used for. <br>\n",
        "\n",
        "Since this is a medical context directly related to human life, I will choose the Recall metric. Recall measures the ability of a model to correctly identify all actual positive cases and get fewer false negatives. In this medical setting, recall would measure how many actual breast cancercases the model correctly identifies. Missing a cancer diagnosis may lead to life-threatening danger, so it's more important to capture all positive cases even if it means having some false positives than to have a model that misses them"
      ],
      "metadata": {
        "id": "_hKsgpHja0yU"
      }
    }
  ]
}